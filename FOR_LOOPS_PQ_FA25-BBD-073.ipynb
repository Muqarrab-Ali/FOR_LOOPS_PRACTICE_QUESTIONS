{
 "cells": [
  {
   "cell_type": "code",
   "execution_count": 1,
   "id": "06582521-015d-4039-aa29-adf2198ab274",
   "metadata": {},
   "outputs": [],
   "source": [
    "# 1 Write a for loop to print all even numbers from 2 to 20."
   ]
  },
  {
   "cell_type": "code",
   "execution_count": 2,
   "id": "3a3a7421-f7ae-4af3-a973-fc480bc5f8f6",
   "metadata": {},
   "outputs": [
    {
     "name": "stdout",
     "output_type": "stream",
     "text": [
      "2\n",
      "4\n",
      "6\n",
      "8\n",
      "10\n",
      "12\n",
      "14\n",
      "16\n",
      "18\n",
      "20\n"
     ]
    }
   ],
   "source": [
    "for i in range(2, 21, 2):\n",
    "    print(i)"
   ]
  },
  {
   "cell_type": "code",
   "execution_count": 3,
   "id": "331a0454-c079-48be-bb3c-5dea06d1c4bb",
   "metadata": {},
   "outputs": [],
   "source": [
    "# 2 Create a list of names and use a for loop to print each name in uppercase."
   ]
  },
  {
   "cell_type": "code",
   "execution_count": 4,
   "id": "c82854c4-e4c6-44fe-9137-2ca116be8f6f",
   "metadata": {},
   "outputs": [
    {
     "name": "stdout",
     "output_type": "stream",
     "text": [
      "Muqarrab\n",
      "Aziz\n",
      "Mudassar\n"
     ]
    }
   ],
   "source": [
    "names = [\"muqarrab\", \"aziz\", \"mudassar\"]\n",
    "for name in names:\n",
    "    print(name.title())"
   ]
  },
  {
   "cell_type": "code",
   "execution_count": 5,
   "id": "4cf6d1ea-3853-4cbb-b6c5-1aa442a865cc",
   "metadata": {},
   "outputs": [],
   "source": [
    "# 3 Use a for loop with range() to print numbers from 10 to 1 in reverse order."
   ]
  },
  {
   "cell_type": "code",
   "execution_count": 6,
   "id": "3d6309b6-ab20-44cd-bf24-b450bab943eb",
   "metadata": {},
   "outputs": [
    {
     "name": "stdout",
     "output_type": "stream",
     "text": [
      "10\n",
      "9\n",
      "8\n",
      "7\n",
      "6\n",
      "5\n",
      "4\n",
      "3\n",
      "2\n",
      "1\n"
     ]
    }
   ],
   "source": [
    "for i in range(10, 0, -1):\n",
    "    print(i)"
   ]
  },
  {
   "cell_type": "code",
   "execution_count": 7,
   "id": "32d7c41c-73b6-4268-8285-761c40eda60d",
   "metadata": {},
   "outputs": [],
   "source": [
    "# 4 Iterate through a list of integers and print only the numbers that are divisible by 3."
   ]
  },
  {
   "cell_type": "code",
   "execution_count": 9,
   "id": "3696ea24-7076-491e-9523-7e64e24b8d0e",
   "metadata": {},
   "outputs": [
    {
     "name": "stdout",
     "output_type": "stream",
     "text": [
      "15\n",
      "21\n",
      "30\n",
      "60\n",
      "69\n"
     ]
    }
   ],
   "source": [
    "numbers = [10, 15, 21 ,26, 29, 30, 7, 60, 69]\n",
    "for num in numbers:\n",
    "    if num % 3 == 0:\n",
    "        print(num)"
   ]
  },
  {
   "cell_type": "code",
   "execution_count": 10,
   "id": "d0add4a4-cc23-40d4-ad20-47f95a76816d",
   "metadata": {},
   "outputs": [],
   "source": [
    "# 5 Write a loop that prints the squares of numbers from 1 to 10."
   ]
  },
  {
   "cell_type": "code",
   "execution_count": 11,
   "id": "8ddd6741-a169-466d-84ac-431b61bc6e30",
   "metadata": {},
   "outputs": [
    {
     "name": "stdout",
     "output_type": "stream",
     "text": [
      "1\n",
      "4\n",
      "9\n",
      "16\n",
      "25\n",
      "36\n",
      "49\n",
      "64\n",
      "81\n",
      "100\n"
     ]
    }
   ],
   "source": [
    "for i in range(1, 11):\n",
    "    square = i ** 2\n",
    "    print(square)"
   ]
  },
  {
   "cell_type": "code",
   "execution_count": 12,
   "id": "027e1977-2069-4d2b-a110-7929acbe8e0f",
   "metadata": {},
   "outputs": [],
   "source": [
    "# 6 Given a list of temperatures in Celsius, use a for loop to convert each to Fahrenheit."
   ]
  },
  {
   "cell_type": "code",
   "execution_count": 16,
   "id": "8a7a379d-960c-4c02-94ca-d5965f52a48c",
   "metadata": {},
   "outputs": [
    {
     "name": "stdout",
     "output_type": "stream",
     "text": [
      "96.8\n",
      "113.0\n",
      "93.2\n",
      "104.0\n"
     ]
    }
   ],
   "source": [
    "cels_temp = [36, 45, 34, 40]\n",
    "for c in cels_temp:\n",
    "    farenheit = (c * 9/5 ) + 32 \n",
    "    print(farenheit)    "
   ]
  },
  {
   "cell_type": "code",
   "execution_count": 17,
   "id": "e9c8eccc-9f1d-4270-ac08-6d364d1216b4",
   "metadata": {},
   "outputs": [],
   "source": [
    "# 7 Create a for loop that prints the multiplication table of 5."
   ]
  },
  {
   "cell_type": "code",
   "execution_count": 18,
   "id": "196d22a4-6ab6-4f10-a816-32939c9d27ad",
   "metadata": {},
   "outputs": [
    {
     "name": "stdout",
     "output_type": "stream",
     "text": [
      "5 x 1 = 5\n",
      "5 x 2 = 10\n",
      "5 x 3 = 15\n",
      "5 x 4 = 20\n",
      "5 x 5 = 25\n",
      "5 x 6 = 30\n",
      "5 x 7 = 35\n",
      "5 x 8 = 40\n",
      "5 x 9 = 45\n",
      "5 x 10 = 50\n"
     ]
    }
   ],
   "source": [
    "for i in range(1, 11):\n",
    "    print(f\"5 x {i} = {5 * i}\")"
   ]
  },
  {
   "cell_type": "code",
   "execution_count": 19,
   "id": "5bbdb753-5dda-43f1-bbf4-f63ce49acc92",
   "metadata": {},
   "outputs": [],
   "source": [
    "# 8 Write a program to find the sum of all numbers in a list using a for loop."
   ]
  },
  {
   "cell_type": "code",
   "execution_count": 23,
   "id": "8e45b5b5-b830-41c3-a9b2-66284f3a62b0",
   "metadata": {},
   "outputs": [
    {
     "name": "stdout",
     "output_type": "stream",
     "text": [
      "450\n"
     ]
    }
   ],
   "source": [
    "numbers = [10, 20, 30, 40, 50, 60, 70, 80, 90]\n",
    "total = 0\n",
    "for num in numbers:\n",
    "    total = total + num\n",
    "print(total)"
   ]
  },
  {
   "cell_type": "code",
   "execution_count": 24,
   "id": "62303a4c-dfe9-4e3f-8077-3bfea6a8d1e2",
   "metadata": {},
   "outputs": [],
   "source": [
    "# 9 Use a for loop to iterate through a string and print each character separately."
   ]
  },
  {
   "cell_type": "code",
   "execution_count": 28,
   "id": "3682f32b-a7f8-44c5-bbd9-8962edd1f64a",
   "metadata": {},
   "outputs": [
    {
     "name": "stdout",
     "output_type": "stream",
     "text": [
      "m\n",
      "u\n",
      "q\n",
      "a\n",
      "r\n",
      "r\n",
      "a\n",
      "b\n"
     ]
    }
   ],
   "source": [
    "word = \"muqarrab\"\n",
    "for char in word:\n",
    "    print(char)"
   ]
  },
  {
   "cell_type": "code",
   "execution_count": 29,
   "id": "dcf79fc8-e435-4314-8f1d-38d939f94207",
   "metadata": {},
   "outputs": [],
   "source": [
    "# 10 Create a list of words and use a for loop to print only the words with more than 5 letters."
   ]
  },
  {
   "cell_type": "code",
   "execution_count": 33,
   "id": "c4433998-43a6-48dc-a6e6-185dcc9a18b0",
   "metadata": {},
   "outputs": [
    {
     "name": "stdout",
     "output_type": "stream",
     "text": [
      "bamama\n",
      "monkey\n"
     ]
    }
   ],
   "source": [
    "words = [\"bamama\", \"monkey\", \"apple\", \"maple\", \"bored\"]\n",
    "for word in words: \n",
    "    if len(word) > 5:\n",
    "        print(word)"
   ]
  },
  {
   "cell_type": "code",
   "execution_count": null,
   "id": "204e5a74-b9d6-41f1-b254-9322c2385903",
   "metadata": {},
   "outputs": [],
   "source": []
  }
 ],
 "metadata": {
  "kernelspec": {
   "display_name": "anaconda-panel-2023.05-py310",
   "language": "python",
   "name": "conda-env-anaconda-panel-2023.05-py310-py"
  },
  "language_info": {
   "codemirror_mode": {
    "name": "ipython",
    "version": 3
   },
   "file_extension": ".py",
   "mimetype": "text/x-python",
   "name": "python",
   "nbconvert_exporter": "python",
   "pygments_lexer": "ipython3",
   "version": "3.11.5"
  }
 },
 "nbformat": 4,
 "nbformat_minor": 5
}
